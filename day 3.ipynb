{
 "cells": [
  {
   "cell_type": "code",
   "execution_count": 1,
   "id": "fc86011a",
   "metadata": {},
   "outputs": [
    {
     "name": "stdout",
     "output_type": "stream",
     "text": [
      "welcome to the rollercoastor !\n",
      "what is your height in cm34\n",
      "you need to grow for this\n"
     ]
    }
   ],
   "source": [
    "print(\"welcome to the rollercoastor !\")\n",
    "height = int(input(\"what is your height in cm\"))\n",
    "\n",
    "if height >120:\n",
    "    print(\"you can ride the rollercoastor\")\n",
    "else:\n",
    "    print(\"you need to grow for this\")\n"
   ]
  },
  {
   "cell_type": "code",
   "execution_count": 2,
   "id": "d1ef5204",
   "metadata": {},
   "outputs": [
    {
     "name": "stdout",
     "output_type": "stream",
     "text": [
      "which number is you want to check ?45\n",
      "your number is odd\n"
     ]
    }
   ],
   "source": [
    "number = int(input(\"which number is you want to check ?\"))\n",
    "\n",
    "if number % 2==0:\n",
    "    print(\"your number is even\")\n",
    "else:\n",
    "    print(\"your number is odd\")\n",
    "    "
   ]
  },
  {
   "cell_type": "code",
   "execution_count": null,
   "id": "a1ed96ff",
   "metadata": {},
   "outputs": [],
   "source": [
    "print(\"welcome to the rollercoastor !\")\n",
    "height = int(input(\"what is your height in cm\"))\n",
    "\n",
    "if height >120:\n",
    "    print(\"you can ride the rollercoastor\")\n",
    "else:\n",
    "    print(\"you need to grow for this\")"
   ]
  }
 ],
 "metadata": {
  "kernelspec": {
   "display_name": "Python 3 (ipykernel)",
   "language": "python",
   "name": "python3"
  },
  "language_info": {
   "codemirror_mode": {
    "name": "ipython",
    "version": 3
   },
   "file_extension": ".py",
   "mimetype": "text/x-python",
   "name": "python",
   "nbconvert_exporter": "python",
   "pygments_lexer": "ipython3",
   "version": "3.9.13"
  }
 },
 "nbformat": 4,
 "nbformat_minor": 5
}
