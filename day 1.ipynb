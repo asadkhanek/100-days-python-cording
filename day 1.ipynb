{
 "cells": [
  {
   "cell_type": "code",
   "execution_count": 1,
   "id": "ab7e5fd9",
   "metadata": {},
   "outputs": [
    {
     "name": "stdout",
     "output_type": "stream",
     "text": [
      "my name is asad khan!\n"
     ]
    }
   ],
   "source": [
    "print(\"my name is asad khan!\")"
   ]
  },
  {
   "cell_type": "code",
   "execution_count": 4,
   "id": "3b3f83a1",
   "metadata": {},
   "outputs": [
    {
     "name": "stdout",
     "output_type": "stream",
     "text": [
      "band name generotor \n",
      "what is the name of your city  farooqabab\n",
      "what is your pet name dog\n",
      "your band name is farooqababdog\n"
     ]
    }
   ],
   "source": [
    "print(\"band name generotor \")\n",
    "a=input(\"what is the name of your city  \")\n",
    "b=input(\"what is your pet name \")\n",
    "print(\"your band name is \"+a+\"\"+b)"
   ]
  },
  {
   "cell_type": "code",
   "execution_count": null,
   "id": "cfe08a40",
   "metadata": {},
   "outputs": [],
   "source": []
  }
 ],
 "metadata": {
  "kernelspec": {
   "display_name": "Python 3 (ipykernel)",
   "language": "python",
   "name": "python3"
  },
  "language_info": {
   "codemirror_mode": {
    "name": "ipython",
    "version": 3
   },
   "file_extension": ".py",
   "mimetype": "text/x-python",
   "name": "python",
   "nbconvert_exporter": "python",
   "pygments_lexer": "ipython3",
   "version": "3.9.13"
  }
 },
 "nbformat": 4,
 "nbformat_minor": 5
}
